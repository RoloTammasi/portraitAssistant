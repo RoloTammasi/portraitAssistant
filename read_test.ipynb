{
 "cells": [
  {
   "cell_type": "code",
   "execution_count": 1,
   "metadata": {},
   "outputs": [],
   "source": [
    "# pip install git+https://github.com/npinchot/zbar.git\n",
    "import qrtools"
   ]
  },
  {
   "cell_type": "code",
   "execution_count": 7,
   "metadata": {},
   "outputs": [
    {
     "name": "stdout",
     "output_type": "stream",
     "text": [
      "JohnSmith12345\n"
     ]
    }
   ],
   "source": [
    "qr = qrtools.QR()\n",
    "qr.decode(\"JohnSmith12345.png\")\n",
    "print qr.data"
   ]
  },
  {
   "cell_type": "code",
   "execution_count": 3,
   "metadata": {},
   "outputs": [
    {
     "name": "stdout",
     "output_type": "stream",
     "text": [
      "NULL\n"
     ]
    }
   ],
   "source": [
    "qr = qrtools.QR()\n",
    "qr.decode(\"IMG_8187.jpeg\")\n",
    "print qr.data"
   ]
  },
  {
   "cell_type": "code",
   "execution_count": 4,
   "metadata": {},
   "outputs": [
    {
     "name": "stdout",
     "output_type": "stream",
     "text": [
      "JohnSmith12345\n"
     ]
    }
   ],
   "source": [
    "qr = qrtools.QR()\n",
    "qr.decode(\"test1.png\")\n",
    "print qr.data"
   ]
  },
  {
   "cell_type": "code",
   "execution_count": 5,
   "metadata": {},
   "outputs": [
    {
     "name": "stdout",
     "output_type": "stream",
     "text": [
      "JohnSmith12345\n"
     ]
    }
   ],
   "source": [
    "qr = qrtools.QR()\n",
    "qr.decode(\"test2.png\")\n",
    "print qr.data"
   ]
  },
  {
   "cell_type": "code",
   "execution_count": 6,
   "metadata": {},
   "outputs": [
    {
     "name": "stdout",
     "output_type": "stream",
     "text": [
      "JohnSmith12345\n"
     ]
    }
   ],
   "source": [
    "qr = qrtools.QR()\n",
    "qr.decode(\"test3.png\")\n",
    "print qr.data"
   ]
  },
  {
   "cell_type": "code",
   "execution_count": null,
   "metadata": {},
   "outputs": [],
   "source": []
  }
 ],
 "metadata": {
  "kernelspec": {
   "display_name": "Python 2",
   "language": "python",
   "name": "python2"
  },
  "language_info": {
   "codemirror_mode": {
    "name": "ipython",
    "version": 2
   },
   "file_extension": ".py",
   "mimetype": "text/x-python",
   "name": "python",
   "nbconvert_exporter": "python",
   "pygments_lexer": "ipython2",
   "version": "2.7.15"
  }
 },
 "nbformat": 4,
 "nbformat_minor": 2
}
