{
 "cells": [
  {
   "cell_type": "code",
   "execution_count": 15,
   "metadata": {},
   "outputs": [],
   "source": [
    "import qrtools\n",
    "import os\n",
    "from shutil import copy2"
   ]
  },
  {
   "cell_type": "code",
   "execution_count": 8,
   "metadata": {},
   "outputs": [],
   "source": [
    "# set variable(s)\n",
    "images_folder = \"test_data/sample pics\"\n",
    "destination = \"test_data/gallery\""
   ]
  },
  {
   "cell_type": "code",
   "execution_count": 13,
   "metadata": {},
   "outputs": [],
   "source": [
    "# if destination folder doesn't exist, create it\n",
    "if os.path.isdir(destination) is False:\n",
    "            os.mkdir(destination)"
   ]
  },
  {
   "cell_type": "code",
   "execution_count": null,
   "metadata": {},
   "outputs": [],
   "source": [
    "# instantiate qrtools object\n",
    "qr = qrtools.QR()"
   ]
  },
  {
   "cell_type": "code",
   "execution_count": null,
   "metadata": {},
   "outputs": [],
   "source": [
    "for filename in os.listdir(images_folder):\n",
    "    try:\n",
    "        # check for QR code\n",
    "        qr.decode(filename)\n",
    "        student = qr.data\n",
    "        \n",
    "        # if it is a QR code, check if student's folder already exists\n",
    "        if os.path.isdir(destination + \"/\" + student) is False:        \n",
    "            # if student's folder doesn't exist, create the folder\n",
    "            os.mkdir(destination + \"/\" + student)\n",
    "        \n",
    "    except:\n",
    "        # if not a QR code, store file in last known folder\n",
    "        copy2(os.path.dirname(os.path.abspath(filename)) + \"/\" + images_folder + \"/\" + filename, destination + \"/\" + student)"
   ]
  },
  {
   "cell_type": "code",
   "execution_count": null,
   "metadata": {},
   "outputs": [],
   "source": []
  }
 ],
 "metadata": {
  "kernelspec": {
   "display_name": "Python 3",
   "language": "python",
   "name": "python3"
  },
  "language_info": {
   "codemirror_mode": {
    "name": "ipython",
    "version": 3
   },
   "file_extension": ".py",
   "mimetype": "text/x-python",
   "name": "python",
   "nbconvert_exporter": "python",
   "pygments_lexer": "ipython3",
   "version": "3.7.1"
  }
 },
 "nbformat": 4,
 "nbformat_minor": 2
}
